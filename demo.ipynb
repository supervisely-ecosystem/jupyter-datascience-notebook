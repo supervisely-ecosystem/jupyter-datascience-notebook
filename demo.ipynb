{
 "cells": [
  {
   "cell_type": "markdown",
   "source": [
    "Jupyter Data Science Notebook Demo"
   ],
   "metadata": {
    "collapsed": false
   }
  },
  {
   "cell_type": "code",
   "execution_count": null,
   "outputs": [],
   "source": [
    "import os\n",
    "import supervisely as sly\n",
    "\n",
    "# Create supervisely API object\n",
    "address = 'https://app.supervise.ly/'\n",
    "token = 'Your Supervisely API Token'\n",
    "api = sly.Api(address, token)"
   ],
   "metadata": {
    "collapsed": false
   }
  },
  {
   "cell_type": "code",
   "execution_count": null,
   "outputs": [],
   "source": [
    "# List all user teams example\n",
    "team_id = os.environ.get(\"context.teamId\")\n",
    "teams = api.user.get_teams(team_id)"
   ],
   "metadata": {
    "collapsed": false
   }
  },
  {
   "cell_type": "markdown",
   "source": [],
   "metadata": {
    "collapsed": false
   }
  }
 ],
 "metadata": {
  "kernelspec": {
   "display_name": "Python 3",
   "language": "python",
   "name": "python3"
  },
  "language_info": {
   "codemirror_mode": {
    "name": "ipython",
    "version": 2
   },
   "file_extension": ".py",
   "mimetype": "text/x-python",
   "name": "python",
   "nbconvert_exporter": "python",
   "pygments_lexer": "ipython2",
   "version": "2.7.6"
  }
 },
 "nbformat": 4,
 "nbformat_minor": 0
}
