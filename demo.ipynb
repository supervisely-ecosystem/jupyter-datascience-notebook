{
 "cells": [
  {
   "cell_type": "markdown",
   "metadata": {
    "collapsed": false
   },
   "source": [
    "Jupyter Data Science Notebook Demo"
   ]
  },
  {
   "cell_type": "code",
   "execution_count": null,
   "metadata": {
    "collapsed": false,
    "pycharm": {
     "is_executing": true
    }
   },
   "outputs": [],
   "source": [
    "import os\n",
    "import supervisely as sly\n",
    "\n",
    "# Create supervisely API object\n",
    "api = sly.Api()"
   ]
  },
  {
   "cell_type": "code",
   "execution_count": null,
   "metadata": {},
   "outputs": [],
   "source": [
    "team_id = os.environ.get(\"CONTEXT_TEAMID\")\n",
    "team_info = api.team.get_info_by_id(team_id)\n",
    "print(f\"Current team: [id={team_info.id}] {team_info.name}\")\n",
    "\n",
    "workspace_id = os.environ.get(\"CONTEXT_WORKSPACEID\")\n",
    "workspace_info = api.team.get_info_by_id(team_id)\n",
    "print(f\"Current workspace: [id={workspace_info.id}] {workspace_info.name}\")"
   ]
  },
  {
   "cell_type": "code",
   "execution_count": null,
   "metadata": {
    "collapsed": false,
    "pycharm": {
     "is_executing": true
    }
   },
   "outputs": [],
   "source": [
    "my_info = api.user.get_my_info()\n",
    "print(\"my login:\", my_info.login)\n",
    "print(\"my ID:\", my_info.id)"
   ]
  },
  {
   "cell_type": "code",
   "execution_count": null,
   "metadata": {
    "collapsed": false
   },
   "outputs": [],
   "source": [
    "# List all user teams example\n",
    "\n",
    "my_teams = api.user.get_teams(my_info.id)\n",
    "print(f\"I'm a member of {len(my_teams)} teams:\")\n",
    "for team in my_teams:\n",
    "    print(f\"[id={team.id}] {team.name}\")"
   ]
  }
 ],
 "metadata": {
  "kernelspec": {
   "display_name": "Python 3",
   "language": "python",
   "name": "python3"
  },
  "language_info": {
   "codemirror_mode": {
    "name": "ipython",
    "version": 2
   },
   "file_extension": ".py",
   "mimetype": "text/x-python",
   "name": "python",
   "nbconvert_exporter": "python",
   "pygments_lexer": "ipython2",
   "version": "2.7.6"
  }
 },
 "nbformat": 4,
 "nbformat_minor": 0
}
