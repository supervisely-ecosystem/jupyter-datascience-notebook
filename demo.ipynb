{
 "cells": [
  {
   "cell_type": "markdown",
   "source": [
    "Jupyter Data Science Notebook Demo"
   ],
   "metadata": {
    "collapsed": false
   }
  },
  {
   "cell_type": "code",
   "execution_count": null,
   "outputs": [],
   "source": [
    "import os\n",
    "import supervisely as sly\n",
    "\n",
    "# Create supervisely API object\n",
    "api = sly.Api()"
   ],
   "metadata": {
    "collapsed": false,
    "pycharm": {
     "is_executing": true
    }
   }
  },
  {
   "cell_type": "code",
   "execution_count": null,
   "outputs": [],
   "source": [
    "my_info = api.user.get_my_info()\n",
    "print(\"my login:\", my_info.login)\n",
    "print(\"my ID:\", my_info.id)"
   ],
   "metadata": {
    "collapsed": false,
    "pycharm": {
     "is_executing": true
    }
   }
  },
  {
   "cell_type": "code",
   "execution_count": null,
   "outputs": [],
   "source": [
    "# List all user teams example\n",
    "team_id = os.environ.get(\"context.teamId\")\n",
    "my_teams = api.user.get_teams(my_info.id)\n",
    "print(f\"I'm a member of {len(my_teams)} teams:\")\n",
    "for team in my_teams:\n",
    "    print(f\"[id={team.id}] {team.name}\")"
   ],
   "metadata": {
    "collapsed": false
   }
  }
 ],
 "metadata": {
  "kernelspec": {
   "display_name": "Python 3",
   "language": "python",
   "name": "python3"
  },
  "language_info": {
   "codemirror_mode": {
    "name": "ipython",
    "version": 2
   },
   "file_extension": ".py",
   "mimetype": "text/x-python",
   "name": "python",
   "nbconvert_exporter": "python",
   "pygments_lexer": "ipython2",
   "version": "2.7.6"
  }
 },
 "nbformat": 4,
 "nbformat_minor": 0
}
